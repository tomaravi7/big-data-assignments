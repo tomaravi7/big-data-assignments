{
  "cells": [
    {
      "cell_type": "markdown",
      "metadata": {
        "id": "view-in-github",
        "colab_type": "text"
      },
      "source": [
        "<a href=\"https://colab.research.google.com/github/tomaravi7/big-data-assignments/blob/main/Assignment3_feb7_202301013.ipynb\" target=\"_parent\"><img src=\"https://colab.research.google.com/assets/colab-badge.svg\" alt=\"Open In Colab\"/></a>"
      ]
    },
    {
      "cell_type": "code",
      "source": [
        "import pandas as pd\n",
        "\n",
        "data = [\n",
        "    [\"Yes\", \"Single\", 125000, \"No\"],\n",
        "    [\"No\", \"Married\", 100000, \"No\"],\n",
        "    [\"No\", \"Single\", 70000, \"No\"],\n",
        "    [\"Yes\", \"Married\", 120000, \"No\"],\n",
        "    [\"No\", \"Divorced\", 95000, \"Yes\"],\n",
        "    [\"No\", \"Married\", 60000, \"No\"],\n",
        "    [\"Yes\", \"Divorced\", 220000, \"No\"],\n",
        "    [\"No\", \"Single\", 85000, \"Yes\"],\n",
        "    [\"No\", \"Married\", 75000, \"No\"],\n",
        "    [\"No\", \"Single\", 90000, \"Yes\"],\n",
        "]\n",
        "df = pd.DataFrame(data, columns=[\"Refund\", \"Marital Status\", \"Taxable Income\", \"Cheat\"])\n",
        "\n",
        "print(df)\n"
      ],
      "metadata": {
        "colab": {
          "base_uri": "https://localhost:8080/"
        },
        "id": "S05B7J9v2LhU",
        "outputId": "3fb0f9e5-639f-475b-e843-47d9035fcc4a"
      },
      "execution_count": 19,
      "outputs": [
        {
          "output_type": "stream",
          "name": "stdout",
          "text": [
            "  Refund Marital Status  Taxable Income Cheat\n",
            "0    Yes         Single          125000    No\n",
            "1     No        Married          100000    No\n",
            "2     No         Single           70000    No\n",
            "3    Yes        Married          120000    No\n",
            "4     No       Divorced           95000   Yes\n",
            "5     No        Married           60000    No\n",
            "6    Yes       Divorced          220000    No\n",
            "7     No         Single           85000   Yes\n",
            "8     No        Married           75000    No\n",
            "9     No         Single           90000   Yes\n"
          ]
        }
      ]
    },
    {
      "cell_type": "code",
      "source": [
        "print(df.loc[[0,4,7,8]])"
      ],
      "metadata": {
        "colab": {
          "base_uri": "https://localhost:8080/"
        },
        "id": "0J9g8rW1RHn-",
        "outputId": "2c74b509-7628-466d-e2a7-4f34428c65fb"
      },
      "execution_count": 23,
      "outputs": [
        {
          "output_type": "stream",
          "name": "stdout",
          "text": [
            "  Refund Marital Status  Taxable Income Cheat\n",
            "0    Yes         Single          125000    No\n",
            "4     No       Divorced           95000   Yes\n",
            "7     No         Single           85000   Yes\n",
            "8     No        Married           75000    No\n"
          ]
        }
      ]
    },
    {
      "cell_type": "code",
      "source": [
        "df2=pd.read_csv('https://raw.githubusercontent.com/AnjulaMehto/MCA/main/data.csv')\n",
        "print(df)"
      ],
      "metadata": {
        "colab": {
          "base_uri": "https://localhost:8080/"
        },
        "id": "7ZGTbV_LRz-T",
        "outputId": "33fb5a86-2fdd-444c-9b96-be54a22d9cfe"
      },
      "execution_count": 11,
      "outputs": [
        {
          "output_type": "stream",
          "name": "stdout",
          "text": [
            "     Duration  Pulse  Maxpulse  Calories\n",
            "0          60    110       130     409.1\n",
            "1          60    117       145     479.0\n",
            "2          60    103       135     340.0\n",
            "3          45    109       175     282.4\n",
            "4          45    117       148     406.0\n",
            "..        ...    ...       ...       ...\n",
            "164        60    105       140     290.8\n",
            "165        60    110       145     300.0\n",
            "166        60    115       145     310.2\n",
            "167        75    120       150     320.4\n",
            "168        75    125       150     330.4\n",
            "\n",
            "[169 rows x 4 columns]\n"
          ]
        }
      ]
    }
  ],
  "metadata": {
    "colab": {
      "provenance": [],
      "authorship_tag": "ABX9TyNcRKiXbOoVZD+czlgsgwoa",
      "include_colab_link": true
    },
    "kernelspec": {
      "display_name": "Python 3",
      "name": "python3"
    },
    "language_info": {
      "name": "python"
    }
  },
  "nbformat": 4,
  "nbformat_minor": 0
}