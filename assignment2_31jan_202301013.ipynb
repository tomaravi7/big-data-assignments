{
  "nbformat": 4,
  "nbformat_minor": 0,
  "metadata": {
    "colab": {
      "provenance": [],
      "authorship_tag": "ABX9TyPhpBC/zLNH0XmlwfMsEtZ0",
      "include_colab_link": true
    },
    "kernelspec": {
      "name": "python3",
      "display_name": "Python 3"
    },
    "language_info": {
      "name": "python"
    }
  },
  "cells": [
    {
      "cell_type": "markdown",
      "metadata": {
        "id": "view-in-github",
        "colab_type": "text"
      },
      "source": [
        "<a href=\"https://colab.research.google.com/github/tomaravi7/big-data-assignments/blob/main/assignment2_31jan_202301013.ipynb\" target=\"_parent\"><img src=\"https://colab.research.google.com/assets/colab-badge.svg\" alt=\"Open In Colab\"/></a>"
      ]
    },
    {
      "cell_type": "code",
      "execution_count": 2,
      "metadata": {
        "id": "dDIWr6xXY9Sd"
      },
      "outputs": [],
      "source": [
        "# big_data_assignments\n",
        "import numpy as np"
      ]
    },
    {
      "cell_type": "code",
      "source": [
        "arr=np.array([1,2,3,6,4,5])\n",
        "np.flip(arr)"
      ],
      "metadata": {
        "colab": {
          "base_uri": "https://localhost:8080/"
        },
        "id": "Nhp6h-rjcvQ8",
        "outputId": "d8033111-a2fa-49b0-bb36-f4278a02e12b"
      },
      "execution_count": null,
      "outputs": [
        {
          "output_type": "execute_result",
          "data": {
            "text/plain": [
              "array([5, 4, 6, 3, 2, 1])"
            ]
          },
          "metadata": {},
          "execution_count": 2
        }
      ]
    },
    {
      "cell_type": "code",
      "source": [
        "arr1=np.array([[1, 2], [3, 4]])\n",
        "arr2=np.array([[1, 2], [3, 4]])\n",
        "print(np.array_equal(arr1,arr2))"
      ],
      "metadata": {
        "colab": {
          "base_uri": "https://localhost:8080/"
        },
        "id": "6TQEb1AWichs",
        "outputId": "323d91e3-751a-498a-a22d-4de7a21a39f1"
      },
      "execution_count": 4,
      "outputs": [
        {
          "output_type": "stream",
          "name": "stdout",
          "text": [
            "True\n"
          ]
        }
      ]
    },
    {
      "cell_type": "code",
      "source": [
        "x=np.array([1,2,3,4,5,1,2,1,1,1])\n",
        "y=np.array([1, 1, 1, 2, 3, 4, 2, 4, 3, 3])\n",
        "values, count=np.unique(x,return_counts=True)\n",
        "print(\"Most frequent Number is : \",x[np.argmax(count)],end=\" \")\n",
        "indxes = np.where(x==x[np.argmax(count)])\n",
        "print(\"And is present at \",indxes,\" indexes\")"
      ],
      "metadata": {
        "id": "CYF2-lDejC-4",
        "colab": {
          "base_uri": "https://localhost:8080/"
        },
        "outputId": "17d063d7-d94f-49a4-beba-2ab2676c74c9"
      },
      "execution_count": 33,
      "outputs": [
        {
          "output_type": "stream",
          "name": "stdout",
          "text": [
            "Most frequent Number is :  1 And is present at  (array([0, 5, 7, 8, 9]),)  indexes\n"
          ]
        }
      ]
    },
    {
      "cell_type": "code",
      "source": [
        "gfg = np.matrix('[4, 1, 9; 12, 3, 1; 4, 5, 6]')\n",
        "sum=gfg.sum()\n",
        "sum_row=np.sum(gfg,axis=1)\n",
        "sum_column=np.sum(gfg,axis=0)\n",
        "print(sum,sum_row,sum_column)"
      ],
      "metadata": {
        "colab": {
          "base_uri": "https://localhost:8080/"
        },
        "id": "eDB2dGXUBpYj",
        "outputId": "4ffc0696-1a56-4475-84f4-acee3529ebf1"
      },
      "execution_count": 44,
      "outputs": [
        {
          "output_type": "stream",
          "name": "stdout",
          "text": [
            "[[ 4  1  9]\n",
            " [12  3  1]\n",
            " [ 4  5  6]]\n",
            "45 [[14]\n",
            " [16]\n",
            " [15]] [[20  9 16]]\n"
          ]
        }
      ]
    },
    {
      "cell_type": "code",
      "source": [],
      "metadata": {
        "id": "fvPl15eYGFlT"
      },
      "execution_count": null,
      "outputs": []
    }
  ]
}